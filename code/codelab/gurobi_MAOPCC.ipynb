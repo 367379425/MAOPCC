{
 "cells": [
  {
   "cell_type": "code",
   "execution_count": 1,
   "id": "b3e9a336",
   "metadata": {},
   "outputs": [],
   "source": [
    "import pandas as pd\n",
    "import os\n",
    "import numpy as np\n",
    "import gurobipy as grb\n",
    "os.sys.path = ['..\\\\']+ os.sys.path\n",
    "from InstanceReader import read_instance\n"
   ]
  },
  {
   "cell_type": "code",
   "execution_count": 68,
   "id": "06a6488e",
   "metadata": {},
   "outputs": [],
   "source": [
    "root_path = r'..\\..\\instances\\7-10'\n",
    "instance_i = 10\n",
    "instance_name = f\"instance{instance_i}.xls\""
   ]
  },
  {
   "cell_type": "code",
   "execution_count": 69,
   "id": "39438b79",
   "metadata": {
    "scrolled": true
   },
   "outputs": [
    {
     "data": {
      "text/plain": [
       "{'visitor_info':    visitor_index time_limit\n",
       " 0              0        189\n",
       " 1              1        178\n",
       " 2              2        221\n",
       " 3              3        174\n",
       " 4              4        219\n",
       " 5              5        223\n",
       " 6              6        202\n",
       " 7              7        180\n",
       " 8              8        135\n",
       " 9              9        214,\n",
       " 'attraction_info':   attraction_index attraction_reward serve_time\n",
       " 0                e                 0          0\n",
       " 1                0                 2          9\n",
       " 2                1                 7         29\n",
       " 3                2                 1         47\n",
       " 4                3                 8         37\n",
       " 5                4                11         44\n",
       " 6                h                 0          0,\n",
       " 'attraction_distance_map':      e    0   1    2    3   4    h\n",
       " e    0  114  76  105  114  18    0\n",
       " 0  114    0  96   37  134  96  114\n",
       " 1   76   96   0   59   38  58   76\n",
       " 2  105   37  59    0   97  87  105\n",
       " 3  114  134  38   97    0  96  114\n",
       " 4   18   96  58   87   96   0   18\n",
       " h    0  114  76  105  114  18    0}"
      ]
     },
     "execution_count": 69,
     "metadata": {},
     "output_type": "execute_result"
    }
   ],
   "source": [
    "instances = read_instance(os.path.join(root_path, instance_name))\n",
    "instances"
   ]
  },
  {
   "cell_type": "code",
   "execution_count": 8,
   "id": "fff384f4",
   "metadata": {},
   "outputs": [
    {
     "data": {
      "text/plain": [
       "['e', 0, 1, 2, 3, 4, 'h']"
      ]
     },
     "execution_count": 8,
     "metadata": {},
     "output_type": "execute_result"
    }
   ],
   "source": [
    "[x for x in instances['attraction_info']['attraction_index']]"
   ]
  },
  {
   "cell_type": "code",
   "execution_count": 27,
   "id": "baaff85c",
   "metadata": {},
   "outputs": [
    {
     "data": {
      "text/plain": [
       "array([0, 1, 2, 3, 4, 5, 6, 7, 8, 9], dtype=int64)"
      ]
     },
     "execution_count": 27,
     "metadata": {},
     "output_type": "execute_result"
    }
   ],
   "source": [
    "instances['visitor_info']['visitor_index'].values"
   ]
  },
  {
   "cell_type": "code",
   "execution_count": 70,
   "id": "cd568928",
   "metadata": {},
   "outputs": [],
   "source": [
    "attraction_resource_num = 2\n",
    "inf = max(instances['visitor_info']['time_limit'])\n",
    "class visitor:\n",
    "    def __init__(self, visitor_i_info):\n",
    "        self.visitor_i = visitor_i_info['visitor_index']\n",
    "        self.time_limit = visitor_i_info['time_limit']\n",
    "    \n",
    "    def initialize_var(self, m: grb.Model, attraction_info, visitor_info):\n",
    "        temp = self.enumberate_x(attraction_info)\n",
    "        self.x_var_dict = m.addVars(temp['var_index'], vtype=grb.GRB.BINARY, name=temp['var_name'])\n",
    "        \n",
    "        temp = self.enumberate_s_ij(attraction_info)\n",
    "        self.start_time_dict = m.addVars(temp['start_index'], vtype=grb.GRB.INTEGER, lb=0, name=temp['start_name'])\n",
    "        \n",
    "        temp = self.enumberate_z(attraction_info)\n",
    "        self.z_dict = m.addVars(temp['z_index'], vtype=grb.GRB.BINARY, name=temp['z_name'])\n",
    "        \n",
    "        temp = self.enumberate_q(attraction_info, visitor_info)\n",
    "        self.q_dict = m.addVars(temp['q_index'], vtype=grb.GRB.BINARY, name=temp['q_name'])\n",
    "        \n",
    "    \n",
    "    def enumberate_x(self, attraction_info):\n",
    "        visitor_x_index = [\n",
    "            (j, k)\n",
    "            for j in  attraction_info['attraction_index'][:-1]\n",
    "            for k in attraction_info['attraction_index'][1:] if j !=k \n",
    "        ]\n",
    "        \n",
    "        visitor_x_name = [\n",
    "            f\"x-v:{self.visitor_i}_{j}->{k}\"\n",
    "            for j in  attraction_info['attraction_index'][:-1]\n",
    "            for k in attraction_info['attraction_index'][1:] if j !=k \n",
    "        ]\n",
    "        return {'var_index': visitor_x_index, 'var_name': visitor_x_name}\n",
    "        \n",
    "    def enumberate_s_ij(self, attraction_info):\n",
    "        start_time_j_index = attraction_info['attraction_index'].values.tolist()\n",
    "        start_time_j_name = [f\"s-v:{self.visitor_i}_StartTime:{j}\" for j in  start_time_j_index]\n",
    "        return {'start_index': start_time_j_index, 'start_name': start_time_j_name}\n",
    "    \n",
    "    def enumberate_z(self, attraction_info):\n",
    "        z_index = [\n",
    "            (j, m)\n",
    "            for j in  attraction_info['attraction_index'][1:-1]\n",
    "            for m in range(attraction_resource_num)\n",
    "        ]\n",
    "        z_name = [\n",
    "            f\"z-v:{self.visitor_i}_A:{j}_m:{m}\"\n",
    "            for j in  attraction_info['attraction_index'][1:-1]\n",
    "            for m in range(attraction_resource_num)\n",
    "        ]\n",
    "        return {'z_index': z_index, 'z_name': z_name}\n",
    "    \n",
    "    def enumberate_q(self, attraction_info, visitor_info):\n",
    "        q_index = [\n",
    "            (self.visitor_i, l, j, m)\n",
    "            for l in visitor_info['visitor_index'].values if l != self.visitor_i\n",
    "            for j in attraction_info['attraction_index'][1:-1]\n",
    "            for m in range(attraction_resource_num)\n",
    "        ]\n",
    "        q_name = [\n",
    "            f\"q-v:{self.visitor_i}_{l}_{j}_{m}\"\n",
    "            for l in visitor_info['visitor_index'].values if l != self.visitor_i\n",
    "            for j in attraction_info['attraction_index'][1:-1]\n",
    "            for m in range(attraction_resource_num)\n",
    "        ]\n",
    "        \n",
    "        return {'q_index': q_index, 'q_name': q_name}\n",
    "        \n",
    "\n",
    "class MAOPCC:\n",
    "    def __init__(self, attraction_info, vistor_info, attraction_distance_map, model_name='MAOPCC'):\n",
    "        self.attraction_info = attraction_info\n",
    "        self.visitor_info = vistor_info\n",
    "        self.attraction_distance_map = attraction_distance_map\n",
    "        \n",
    "        self.m = grb.Model(model_name)\n",
    "        self.visitors_list = None\n",
    "        \n",
    "    def initialize_vistors(self):\n",
    "        self.visitors_list = [\n",
    "            visitor(self.visitor_info.loc[visitor_i])\n",
    "            for visitor_i in range(len(self.visitor_info))\n",
    "        ]\n",
    "        \n",
    "        for visitor_i in self.visitors_list:\n",
    "            visitor_i.initialize_var(m=self.m, attraction_info=self.attraction_info, visitor_info=self.visitor_info)\n",
    "            \n",
    "    def set_objective(self):\n",
    "        all_reaward = sum([\n",
    "            sum([\n",
    "                self.visitors_list[visitor_i].x_var_dict[xijk] * self.attraction_info['attraction_reward'][\n",
    "                    self.attraction_info['attraction_index']==xijk[-1]].item()\n",
    "                for xijk in self.visitors_list[visitor_i].x_var_dict\n",
    "            ])\n",
    "            for visitor_i in range(len(self.visitors_list))\n",
    "        ])\n",
    "        self.m.setObjective(all_reaward, grb.GRB.MAXIMIZE)\n",
    "        \n",
    "    \n",
    "    def add_constraints(self):\n",
    "        # constraint ②\n",
    "        self.m.addConstrs(\n",
    "        (\n",
    "            visitor_i.start_time_dict[j] <= visitor_i.time_limit\n",
    "            for j in self.attraction_info['attraction_index']\n",
    "            for visitor_i in self.visitors_list), name='C[2]'\n",
    "        )\n",
    "        \n",
    "        # constraint ③\n",
    "        self.m.addConstrs(\n",
    "            (\n",
    "                sum([\n",
    "                    visitor_i.x_var_dict[xi0k] \n",
    "                    for xi0k in visitor_i.x_var_dict if xi0k[0] == 'e' \n",
    "                ]) == 1\n",
    "                for visitor_i in self.visitors_list\n",
    "            ), name='C[3]'\n",
    "        )\n",
    "        \n",
    "        # constraint ④\n",
    "        self.m.addConstrs(\n",
    "            (\n",
    "                sum([\n",
    "                    visitor_i.x_var_dict[xijH1]\n",
    "                    for xijH1 in visitor_i.x_var_dict if xijH1[-1] == 'h'\n",
    "                ]) == 1\n",
    "                for visitor_i in self.visitors_list\n",
    "            ),name='C[4]'\n",
    "        )\n",
    "        \n",
    "        # constraint ⑤\n",
    "        self.m.addConstrs(\n",
    "            (\n",
    "                sum([\n",
    "                    visitor_i.x_var_dict[xjk]\n",
    "                    for xjk in visitor_i.x_var_dict if xjk[-1] == k \n",
    "                ]) <=1\n",
    "                for k in self.attraction_info['attraction_index'][1:-1]\n",
    "                for visitor_i in self.visitors_list\n",
    "            ), name='C[5]'\n",
    "        )\n",
    "        \n",
    "        self.m.addConstrs(\n",
    "            (\n",
    "                sum([\n",
    "                    visitor_i.x_var_dict[xkj]\n",
    "                    for xkj in visitor_i.x_var_dict if xkj[0] == k \n",
    "                ]) <=1\n",
    "                for k in self.attraction_info['attraction_index'][1:-1]\n",
    "                for visitor_i in self.visitors_list\n",
    "            ), name='C[5]'\n",
    "        )\n",
    "        \n",
    "        self.m.addConstrs(\n",
    "            (\n",
    "                sum([\n",
    "                    visitor_i.x_var_dict[xjk]\n",
    "                    for xjk in visitor_i.x_var_dict if xjk[-1] == k\n",
    "                ]) == sum([\n",
    "                    visitor_i.x_var_dict[xkj]\n",
    "                    for xkj in visitor_i.x_var_dict if xkj[0] == k\n",
    "                ])\n",
    "                for k in self.attraction_info['attraction_index'][1:-1]\n",
    "                for visitor_i in self.visitors_list\n",
    "            ), name='C[5]'\n",
    "        )\n",
    "        \n",
    "        # constraint 6\n",
    "        \n",
    "#         self.m.addConstrs(\n",
    "#             (\n",
    "                \n",
    "#                 for k in self.attraction_info['attraction_index'][1:]\n",
    "#                 for j in self.attraction_info['attraction_index'][0:-1] if k != j\n",
    "#                 for i in range(len(self.visitors_list))\n",
    "#             ), name='C[6]'\n",
    "#         )\n",
    "        \n",
    "        # constraint ⑦\n",
    "        self.m.addConstrs(\n",
    "            (\n",
    "                sum([\n",
    "                    visitor_i.x_var_dict[xjk]\n",
    "                    for xjk in visitor_i.x_var_dict if xjk[0] == j\n",
    "                ]) == sum([\n",
    "                    visitor_i.z_dict[z_ijm]\n",
    "                    for z_ijm in visitor_i.z_dict if z_ijm[0] == j\n",
    "                ])\n",
    "                for j in self.attraction_info['attraction_index'][1:-1]\n",
    "                for visitor_i in self.visitors_list\n",
    "            ), name='C[7]'\n",
    "        )\n",
    "        \n",
    "        # constraint ⑧\n",
    "        self.m.addConstrs(\n",
    "            (\n",
    "                visitor_i.start_time_dict[x_ikj[-1]] - visitor_i.start_time_dict[x_ikj[0]] >= inf * (visitor_i.x_var_dict[x_ikj] - 1) + self.attraction_distance_map.loc[x_ikj[0], x_ikj[-1]] + \n",
    "                self.attraction_info['serve_time'][self.attraction_info['attraction_index'] == x_ikj[0]].item()\n",
    "                for visitor_i in self.visitors_list\n",
    "                for x_ikj in visitor_i.x_var_dict \n",
    "            ), name='C[8]'\n",
    "        )\n",
    "        \n",
    "        # constraint ⑨\n",
    "        self.m.addConstrs(\n",
    "            (\n",
    "                self.visitors_list[i].q_dict[(i,l,j, m)] + self.visitors_list[l].q_dict[(l, i, j, m)] >=\n",
    "                self.visitors_list[i].z_dict[(j, m)] + self.visitors_list[l].z_dict[(j, m)] - 1\n",
    "                for i in range(len(self.visitors_list))\n",
    "                for l in range(len(self.visitors_list)) if i != l\n",
    "                for j in self.attraction_info['attraction_index'][1:-1]\n",
    "                for m in range(attraction_resource_num)\n",
    "            ), name='C[9]'\n",
    "        )\n",
    "        \n",
    "        # constraint ⑩\n",
    "        self.m.addConstrs(\n",
    "            (\n",
    "                self.visitors_list[i].q_dict[(i,l,j, m)] + self.visitors_list[l].q_dict[(l, i, j, m)] <=\n",
    "                0.5 * (self.visitors_list[i].z_dict[(j, m)] + self.visitors_list[l].z_dict[(j, m)])\n",
    "                for i in range(len(self.visitors_list))\n",
    "                for l in range(len(self.visitors_list)) if i != l\n",
    "                for j in self.attraction_info['attraction_index'][1:-1]\n",
    "                for m in range(attraction_resource_num)\n",
    "            ), name='C[10]'\n",
    "        )\n",
    "        \n",
    "        # constraint 11\n",
    "        self.m.addConstrs(\n",
    "            (\n",
    "                self.visitors_list[l].start_time_dict[j] - self.visitors_list[i].start_time_dict[j] >=\n",
    "                self.attraction_info['serve_time'][self.attraction_info['attraction_index'] == j].item() - inf * \n",
    "                (1 - sum([\n",
    "                    self.visitors_list[i].q_dict[q_iljm]\n",
    "                    for q_iljm in self.visitors_list[i].q_dict if (q_iljm[1] == l and q_iljm[-2] == j)\n",
    "                ])\n",
    "                )\n",
    "                for i in range(len(self.visitors_list))\n",
    "                for l in range(len(self.visitors_list)) if i != l\n",
    "                for j in self.attraction_info['attraction_index'][1:-1]\n",
    "            ), name='C[11]'\n",
    "        )\n",
    "        \n",
    "    def opitimize(self):\n",
    "        self.m.optimize()\n",
    "        \n",
    "        \n",
    "        \n",
    "        \n",
    "        \n",
    "        \n",
    "        "
   ]
  },
  {
   "cell_type": "code",
   "execution_count": 71,
   "id": "d221453c",
   "metadata": {},
   "outputs": [
    {
     "name": "stdout",
     "output_type": "stream",
     "text": [
      "Wall time: 19.3 ms\n"
     ]
    }
   ],
   "source": [
    "%%time\n",
    "maopcc = MAOPCC(attraction_info=instances['attraction_info'], vistor_info=instances['visitor_info'], \n",
    "       attraction_distance_map=instances['attraction_distance_map'])\n",
    "# maopcc.initialize_vistors()\n",
    "# maopcc.set_objective()\n",
    "# maopcc.add_constraints()"
   ]
  },
  {
   "cell_type": "code",
   "execution_count": 72,
   "id": "aa138e54",
   "metadata": {},
   "outputs": [
    {
     "name": "stdout",
     "output_type": "stream",
     "text": [
      "Wall time: 24.2 ms\n"
     ]
    }
   ],
   "source": [
    "%%time\n",
    "maopcc.initialize_vistors()"
   ]
  },
  {
   "cell_type": "code",
   "execution_count": 73,
   "id": "b461b428",
   "metadata": {},
   "outputs": [
    {
     "name": "stdout",
     "output_type": "stream",
     "text": [
      "Wall time: 52.1 ms\n"
     ]
    }
   ],
   "source": [
    "%%time\n",
    "maopcc.set_objective()"
   ]
  },
  {
   "cell_type": "code",
   "execution_count": 74,
   "id": "4b3fa67b",
   "metadata": {},
   "outputs": [
    {
     "name": "stdout",
     "output_type": "stream",
     "text": [
      "Wall time: 336 ms\n"
     ]
    }
   ],
   "source": [
    "%%time\n",
    "maopcc.add_constraints()"
   ]
  },
  {
   "cell_type": "code",
   "execution_count": 75,
   "id": "d6357421",
   "metadata": {},
   "outputs": [
    {
     "name": "stdout",
     "output_type": "stream",
     "text": [
      "Gurobi Optimizer version 11.0.1 build v11.0.1rc0 (win64 - Windows 11.0 (22000.2))\n",
      "\n",
      "CPU model: Intel(R) Core(TM) i5-10210U CPU @ 1.60GHz, instruction set [SSE2|AVX|AVX2]\n",
      "Thread count: 4 physical cores, 8 logical processors, using up to 8 threads\n",
      "\n",
      "Optimize a model with 2850 rows, 1380 columns and 11470 nonzeros\n",
      "Model fingerprint: 0x7476bdeb\n",
      "Variable types: 0 continuous, 1380 integer (1310 binary)\n",
      "Coefficient statistics:\n",
      "  Matrix range     [5e-01, 2e+02]\n",
      "  Objective range  [1e+00, 1e+01]\n",
      "  Bounds range     [1e+00, 1e+00]\n",
      "  RHS range        [1e+00, 2e+02]\n",
      "Found heuristic solution: objective -0.0000000\n",
      "Presolve removed 2408 rows and 1087 columns\n",
      "Presolve time: 0.05s\n",
      "Presolved: 442 rows, 293 columns, 1576 nonzeros\n",
      "Variable types: 0 continuous, 293 integer (268 binary)\n",
      "Found heuristic solution: objective 36.0000000\n",
      "\n",
      "Root relaxation: objective 1.100000e+02, 32 iterations, 0.00 seconds (0.00 work units)\n",
      "\n",
      "    Nodes    |    Current Node    |     Objective Bounds      |     Work\n",
      " Expl Unexpl |  Obj  Depth IntInf | Incumbent    BestBd   Gap | It/Node Time\n",
      "\n",
      "     0     0  110.00000    0    6   36.00000  110.00000   206%     -    0s\n",
      "H    0     0                      66.0000000  110.00000  66.7%     -    0s\n",
      "H    0     0                      73.0000000  110.00000  50.7%     -    0s\n",
      "H    0     0                      77.0000000  110.00000  42.9%     -    0s\n",
      "     0     0  110.00000    0   58   77.00000  110.00000  42.9%     -    0s\n",
      "H    0     0                      95.0000000  110.00000  15.8%     -    0s\n",
      "     0     0  110.00000    0    4   95.00000  110.00000  15.8%     -    0s\n",
      "H    0     0                     102.0000000  110.00000  7.84%     -    0s\n",
      "     0     0  110.00000    0    4  102.00000  110.00000  7.84%     -    0s\n",
      "     0     0  110.00000    0    5  102.00000  110.00000  7.84%     -    0s\n",
      "     0     0  110.00000    0    6  102.00000  110.00000  7.84%     -    0s\n",
      "     0     0  110.00000    0   11  102.00000  110.00000  7.84%     -    0s\n",
      "     0     0  110.00000    0    9  102.00000  110.00000  7.84%     -    0s\n",
      "     0     0  110.00000    0    4  102.00000  110.00000  7.84%     -    0s\n",
      "     0     0  110.00000    0    5  102.00000  110.00000  7.84%     -    0s\n",
      "     0     0  110.00000    0    4  102.00000  110.00000  7.84%     -    0s\n",
      "     0     0  110.00000    0    4  102.00000  110.00000  7.84%     -    0s\n",
      "     0     2  110.00000    0    4  102.00000  110.00000  7.84%     -    0s\n",
      "\n",
      "Cutting planes:\n",
      "  Cover: 4\n",
      "  Implied bound: 4\n",
      "  Clique: 1\n",
      "  Zero half: 7\n",
      "\n",
      "Explored 12864 nodes (155411 simplex iterations) in 3.67 seconds (1.94 work units)\n",
      "Thread count was 8 (of 8 available processors)\n",
      "\n",
      "Solution count 8: 102 102 95 ... -0\n",
      "\n",
      "Optimal solution found (tolerance 1.00e-04)\n",
      "Best objective 1.020000000000e+02, best bound 1.020000000000e+02, gap 0.0000%\n",
      "Wall time: 3.69 s\n"
     ]
    }
   ],
   "source": [
    "%%time\n",
    "maopcc.opitimize()"
   ]
  },
  {
   "cell_type": "code",
   "execution_count": 23,
   "id": "83102f72",
   "metadata": {},
   "outputs": [
    {
     "data": {
      "text/plain": [
       "'x-v:0_e->0'"
      ]
     },
     "execution_count": 23,
     "metadata": {},
     "output_type": "execute_result"
    }
   ],
   "source": [
    "maopcc.m.getVars()[0].varName"
   ]
  },
  {
   "cell_type": "markdown",
   "id": "a5459ddc",
   "metadata": {},
   "source": [
    "# show the solution"
   ]
  },
  {
   "cell_type": "code",
   "execution_count": 76,
   "id": "4233380b",
   "metadata": {
    "scrolled": true
   },
   "outputs": [
    {
     "data": {
      "text/plain": [
       "{'x-v:0_e->4': 1.0,\n",
       " 'x-v:0_4->h': 1.0,\n",
       " 's-v:0_StartTime:0': 106.0,\n",
       " 's-v:0_StartTime:2': 89.0,\n",
       " 's-v:0_StartTime:3': 90.0,\n",
       " 's-v:0_StartTime:4': 20.0,\n",
       " 's-v:0_StartTime:h': 189.0,\n",
       " 'z-v:0_A:4_m:1': 1.0,\n",
       " 'q-v:0_1_4_1': 1.0,\n",
       " 'q-v:0_3_4_1': 1.0,\n",
       " 'q-v:0_9_4_1': 1.0,\n",
       " 'x-v:1_e->4': 1.0,\n",
       " 'x-v:1_4->h': 1.0,\n",
       " 's-v:1_StartTime:0': 95.0,\n",
       " 's-v:1_StartTime:1': 61.0,\n",
       " 's-v:1_StartTime:2': 89.0,\n",
       " 's-v:1_StartTime:3': 90.0,\n",
       " 's-v:1_StartTime:4': 64.0,\n",
       " 's-v:1_StartTime:h': 178.0,\n",
       " 'z-v:1_A:4_m:1': 1.0,\n",
       " 'q-v:1_3_4_1': 1.0,\n",
       " 'q-v:1_9_4_1': 1.0,\n",
       " 'x-v:2_e->1': 1.0,\n",
       " 'x-v:2_1->h': 1.0,\n",
       " 's-v:2_StartTime:0': 118.0,\n",
       " 's-v:2_StartTime:1': 76.0,\n",
       " 's-v:2_StartTime:2': 89.0,\n",
       " 's-v:2_StartTime:3': 90.0,\n",
       " 's-v:2_StartTime:4': 72.0,\n",
       " 's-v:2_StartTime:h': 221.0,\n",
       " 'z-v:2_A:1_m:1': 1.0,\n",
       " 'x-v:3_e->4': 1.0,\n",
       " 'x-v:3_4->h': 1.0,\n",
       " 's-v:3_StartTime:0': 91.0,\n",
       " 's-v:3_StartTime:1': 57.0,\n",
       " 's-v:3_StartTime:2': 85.0,\n",
       " 's-v:3_StartTime:3': 90.0,\n",
       " 's-v:3_StartTime:4': 108.0,\n",
       " 's-v:3_StartTime:h': 174.0,\n",
       " 'z-v:3_A:4_m:1': 1.0,\n",
       " 'q-v:3_9_4_1': 1.0,\n",
       " 'x-v:4_e->4': 1.0,\n",
       " 'x-v:4_4->h': 1.0,\n",
       " 's-v:4_StartTime:0': 118.0,\n",
       " 's-v:4_StartTime:1': 29.0,\n",
       " 's-v:4_StartTime:2': 89.0,\n",
       " 's-v:4_StartTime:3': 90.0,\n",
       " 's-v:4_StartTime:4': 150.0,\n",
       " 's-v:4_StartTime:h': 219.0,\n",
       " 'z-v:4_A:4_m:0': 1.0,\n",
       " 'x-v:5_e->4': 1.0,\n",
       " 'x-v:5_4->h': 1.0,\n",
       " 's-v:5_StartTime:0': 118.0,\n",
       " 's-v:5_StartTime:2': 89.0,\n",
       " 's-v:5_StartTime:3': 90.0,\n",
       " 's-v:5_StartTime:4': 18.0,\n",
       " 's-v:5_StartTime:h': 223.0,\n",
       " 'z-v:5_A:4_m:0': 1.0,\n",
       " 'q-v:5_4_4_0': 1.0,\n",
       " 'q-v:5_7_4_0': 1.0,\n",
       " 'q-v:5_8_4_0': 1.0,\n",
       " 'x-v:6_e->1': 1.0,\n",
       " 'x-v:6_1->h': 1.0,\n",
       " 's-v:6_StartTime:0': 118.0,\n",
       " 's-v:6_StartTime:1': 76.0,\n",
       " 's-v:6_StartTime:2': 89.0,\n",
       " 's-v:6_StartTime:3': 90.0,\n",
       " 's-v:6_StartTime:4': 106.0,\n",
       " 's-v:6_StartTime:h': 202.0,\n",
       " 'z-v:6_A:1_m:0': 1.0,\n",
       " 'x-v:7_e->4': 1.0,\n",
       " 'x-v:7_4->h': 1.0,\n",
       " 's-v:7_StartTime:0': 97.0,\n",
       " 's-v:7_StartTime:1': 63.0,\n",
       " 's-v:7_StartTime:2': 88.0,\n",
       " 's-v:7_StartTime:3': 90.0,\n",
       " 's-v:7_StartTime:4': 106.0,\n",
       " 's-v:7_StartTime:h': 180.0,\n",
       " 'z-v:7_A:4_m:0': 1.0,\n",
       " 'q-v:7_4_4_0': 1.0,\n",
       " 'x-v:8_e->4': 1.0,\n",
       " 'x-v:8_4->h': 1.0,\n",
       " 's-v:8_StartTime:0': 80.0,\n",
       " 's-v:8_StartTime:1': 29.0,\n",
       " 's-v:8_StartTime:2': 46.0,\n",
       " 's-v:8_StartTime:3': 52.0,\n",
       " 's-v:8_StartTime:4': 62.0,\n",
       " 's-v:8_StartTime:h': 135.0,\n",
       " 'z-v:8_A:4_m:0': 1.0,\n",
       " 'q-v:8_4_4_0': 1.0,\n",
       " 'q-v:8_7_4_0': 1.0,\n",
       " 'x-v:9_e->4': 1.0,\n",
       " 'x-v:9_4->h': 1.0,\n",
       " 's-v:9_StartTime:0': 118.0,\n",
       " 's-v:9_StartTime:1': 31.0,\n",
       " 's-v:9_StartTime:2': 89.0,\n",
       " 's-v:9_StartTime:3': 90.0,\n",
       " 's-v:9_StartTime:4': 152.0,\n",
       " 's-v:9_StartTime:h': 214.0,\n",
       " 'z-v:9_A:4_m:1': 1.0}"
      ]
     },
     "execution_count": 76,
     "metadata": {},
     "output_type": "execute_result"
    }
   ],
   "source": [
    "solutions = {var.varName: var.x for var in  maopcc.m.getVars() if var.x>0}\n",
    "solutions"
   ]
  },
  {
   "cell_type": "code",
   "execution_count": 78,
   "id": "8f351eba",
   "metadata": {
    "scrolled": false
   },
   "outputs": [
    {
     "data": {
      "text/plain": [
       "{'visitor_info':    visitor_index time_limit\n",
       " 0              0        189\n",
       " 1              1        178\n",
       " 2              2        221\n",
       " 3              3        174\n",
       " 4              4        219\n",
       " 5              5        223\n",
       " 6              6        202\n",
       " 7              7        180\n",
       " 8              8        135\n",
       " 9              9        214,\n",
       " 'attraction_info':   attraction_index attraction_reward serve_time\n",
       " 0                e                 0          0\n",
       " 1                0                 2          9\n",
       " 2                1                 7         29\n",
       " 3                2                 1         47\n",
       " 4                3                 8         37\n",
       " 5                4                11         44\n",
       " 6                h                 0          0,\n",
       " 'attraction_distance_map':      e    0   1    2    3   4    h\n",
       " e    0  114  76  105  114  18    0\n",
       " 0  114    0  96   37  134  96  114\n",
       " 1   76   96   0   59   38  58   76\n",
       " 2  105   37  59    0   97  87  105\n",
       " 3  114  134  38   97    0  96  114\n",
       " 4   18   96  58   87   96   0   18\n",
       " h    0  114  76  105  114  18    0}"
      ]
     },
     "execution_count": 78,
     "metadata": {},
     "output_type": "execute_result"
    }
   ],
   "source": [
    "instances"
   ]
  },
  {
   "cell_type": "code",
   "execution_count": 40,
   "id": "3964c63e",
   "metadata": {},
   "outputs": [
    {
     "data": {
      "text/plain": [
       "True"
      ]
     },
     "execution_count": 40,
     "metadata": {},
     "output_type": "execute_result"
    }
   ],
   "source": [
    "solutions[ 'x-v:0_e->3'] == 0"
   ]
  },
  {
   "cell_type": "code",
   "execution_count": 79,
   "id": "d902f114",
   "metadata": {},
   "outputs": [
    {
     "name": "stdout",
     "output_type": "stream",
     "text": [
      "Wall time: 0 ns\n"
     ]
    },
    {
     "data": {
      "text/html": [
       "<div>\n",
       "<style scoped>\n",
       "    .dataframe tbody tr th:only-of-type {\n",
       "        vertical-align: middle;\n",
       "    }\n",
       "\n",
       "    .dataframe tbody tr th {\n",
       "        vertical-align: top;\n",
       "    }\n",
       "\n",
       "    .dataframe thead th {\n",
       "        text-align: right;\n",
       "    }\n",
       "</style>\n",
       "<table border=\"1\" class=\"dataframe\">\n",
       "  <thead>\n",
       "    <tr style=\"text-align: right;\">\n",
       "      <th></th>\n",
       "      <th>attraction_index</th>\n",
       "      <th>attraction_reward</th>\n",
       "      <th>serve_time</th>\n",
       "    </tr>\n",
       "  </thead>\n",
       "  <tbody>\n",
       "    <tr>\n",
       "      <th>0</th>\n",
       "      <td>e</td>\n",
       "      <td>0</td>\n",
       "      <td>0</td>\n",
       "    </tr>\n",
       "    <tr>\n",
       "      <th>1</th>\n",
       "      <td>0</td>\n",
       "      <td>10</td>\n",
       "      <td>32</td>\n",
       "    </tr>\n",
       "    <tr>\n",
       "      <th>2</th>\n",
       "      <td>1</td>\n",
       "      <td>7</td>\n",
       "      <td>46</td>\n",
       "    </tr>\n",
       "    <tr>\n",
       "      <th>3</th>\n",
       "      <td>2</td>\n",
       "      <td>6</td>\n",
       "      <td>17</td>\n",
       "    </tr>\n",
       "    <tr>\n",
       "      <th>4</th>\n",
       "      <td>3</td>\n",
       "      <td>10</td>\n",
       "      <td>22</td>\n",
       "    </tr>\n",
       "    <tr>\n",
       "      <th>5</th>\n",
       "      <td>4</td>\n",
       "      <td>7</td>\n",
       "      <td>37</td>\n",
       "    </tr>\n",
       "    <tr>\n",
       "      <th>6</th>\n",
       "      <td>h</td>\n",
       "      <td>0</td>\n",
       "      <td>0</td>\n",
       "    </tr>\n",
       "  </tbody>\n",
       "</table>\n",
       "</div>"
      ],
      "text/plain": [
       "  attraction_index attraction_reward serve_time\n",
       "0                e                 0          0\n",
       "1                0                10         32\n",
       "2                1                 7         46\n",
       "3                2                 6         17\n",
       "4                3                10         22\n",
       "5                4                 7         37\n",
       "6                h                 0          0"
      ]
     },
     "execution_count": 79,
     "metadata": {},
     "output_type": "execute_result"
    }
   ],
   "source": [
    "%time\n",
    "instances['attraction_info']"
   ]
  },
  {
   "cell_type": "code",
   "execution_count": 62,
   "id": "3a2074e1",
   "metadata": {},
   "outputs": [
    {
     "data": {
      "text/html": [
       "<div>\n",
       "<style scoped>\n",
       "    .dataframe tbody tr th:only-of-type {\n",
       "        vertical-align: middle;\n",
       "    }\n",
       "\n",
       "    .dataframe tbody tr th {\n",
       "        vertical-align: top;\n",
       "    }\n",
       "\n",
       "    .dataframe thead th {\n",
       "        text-align: right;\n",
       "    }\n",
       "</style>\n",
       "<table border=\"1\" class=\"dataframe\">\n",
       "  <thead>\n",
       "    <tr style=\"text-align: right;\">\n",
       "      <th></th>\n",
       "      <th>visitor_index</th>\n",
       "      <th>time_limit</th>\n",
       "    </tr>\n",
       "  </thead>\n",
       "  <tbody>\n",
       "    <tr>\n",
       "      <th>0</th>\n",
       "      <td>0</td>\n",
       "      <td>219</td>\n",
       "    </tr>\n",
       "    <tr>\n",
       "      <th>1</th>\n",
       "      <td>1</td>\n",
       "      <td>190</td>\n",
       "    </tr>\n",
       "    <tr>\n",
       "      <th>2</th>\n",
       "      <td>2</td>\n",
       "      <td>182</td>\n",
       "    </tr>\n",
       "    <tr>\n",
       "      <th>3</th>\n",
       "      <td>3</td>\n",
       "      <td>194</td>\n",
       "    </tr>\n",
       "    <tr>\n",
       "      <th>4</th>\n",
       "      <td>4</td>\n",
       "      <td>231</td>\n",
       "    </tr>\n",
       "    <tr>\n",
       "      <th>5</th>\n",
       "      <td>5</td>\n",
       "      <td>212</td>\n",
       "    </tr>\n",
       "    <tr>\n",
       "      <th>6</th>\n",
       "      <td>6</td>\n",
       "      <td>206</td>\n",
       "    </tr>\n",
       "    <tr>\n",
       "      <th>7</th>\n",
       "      <td>7</td>\n",
       "      <td>204</td>\n",
       "    </tr>\n",
       "    <tr>\n",
       "      <th>8</th>\n",
       "      <td>8</td>\n",
       "      <td>225</td>\n",
       "    </tr>\n",
       "    <tr>\n",
       "      <th>9</th>\n",
       "      <td>9</td>\n",
       "      <td>218</td>\n",
       "    </tr>\n",
       "  </tbody>\n",
       "</table>\n",
       "</div>"
      ],
      "text/plain": [
       "   visitor_index time_limit\n",
       "0              0        219\n",
       "1              1        190\n",
       "2              2        182\n",
       "3              3        194\n",
       "4              4        231\n",
       "5              5        212\n",
       "6              6        206\n",
       "7              7        204\n",
       "8              8        225\n",
       "9              9        218"
      ]
     },
     "execution_count": 62,
     "metadata": {},
     "output_type": "execute_result"
    }
   ],
   "source": [
    "instances['visitor_info']"
   ]
  },
  {
   "cell_type": "code",
   "execution_count": 104,
   "id": "4d8a4272",
   "metadata": {},
   "outputs": [
    {
     "data": {
      "text/plain": [
       "231"
      ]
     },
     "execution_count": 104,
     "metadata": {},
     "output_type": "execute_result"
    }
   ],
   "source": [
    "max(instances['visitor_info']['time_limit'])"
   ]
  },
  {
   "cell_type": "code",
   "execution_count": 61,
   "id": "bf324030",
   "metadata": {},
   "outputs": [
    {
     "data": {
      "text/plain": [
       "37"
      ]
     },
     "execution_count": 61,
     "metadata": {},
     "output_type": "execute_result"
    }
   ],
   "source": [
    "instances['attraction_info']['serve_time'][instances['attraction_info']['attraction_index'] == 4].item()"
   ]
  },
  {
   "cell_type": "code",
   "execution_count": 86,
   "id": "1f943e2b",
   "metadata": {},
   "outputs": [
    {
     "data": {
      "text/plain": [
       "0     0\n",
       "1    10\n",
       "2     7\n",
       "3     6\n",
       "4    10\n",
       "5     7\n",
       "6     0\n",
       "Name: attraction_reward, dtype: object"
      ]
     },
     "execution_count": 86,
     "metadata": {},
     "output_type": "execute_result"
    }
   ],
   "source": [
    "instances['attraction_info']['attraction_reward']\n"
   ]
  },
  {
   "cell_type": "code",
   "execution_count": 44,
   "id": "3425467e",
   "metadata": {},
   "outputs": [
    {
     "data": {
      "text/html": [
       "<div>\n",
       "<style scoped>\n",
       "    .dataframe tbody tr th:only-of-type {\n",
       "        vertical-align: middle;\n",
       "    }\n",
       "\n",
       "    .dataframe tbody tr th {\n",
       "        vertical-align: top;\n",
       "    }\n",
       "\n",
       "    .dataframe thead th {\n",
       "        text-align: right;\n",
       "    }\n",
       "</style>\n",
       "<table border=\"1\" class=\"dataframe\">\n",
       "  <thead>\n",
       "    <tr style=\"text-align: right;\">\n",
       "      <th></th>\n",
       "      <th>e</th>\n",
       "      <th>0</th>\n",
       "      <th>1</th>\n",
       "    </tr>\n",
       "  </thead>\n",
       "  <tbody>\n",
       "    <tr>\n",
       "      <th>e</th>\n",
       "      <td>0</td>\n",
       "      <td>47</td>\n",
       "      <td>45</td>\n",
       "    </tr>\n",
       "    <tr>\n",
       "      <th>0</th>\n",
       "      <td>47</td>\n",
       "      <td>0</td>\n",
       "      <td>34</td>\n",
       "    </tr>\n",
       "    <tr>\n",
       "      <th>1</th>\n",
       "      <td>45</td>\n",
       "      <td>34</td>\n",
       "      <td>0</td>\n",
       "    </tr>\n",
       "  </tbody>\n",
       "</table>\n",
       "</div>"
      ],
      "text/plain": [
       "    e   0   1\n",
       "e   0  47  45\n",
       "0  47   0  34\n",
       "1  45  34   0"
      ]
     },
     "execution_count": 44,
     "metadata": {},
     "output_type": "execute_result"
    }
   ],
   "source": [
    "instances['attraction_distance_map'].loc[['e', 0, 1],['e', 0, 1]]"
   ]
  },
  {
   "cell_type": "code",
   "execution_count": 66,
   "id": "61f5866e",
   "metadata": {},
   "outputs": [
    {
     "data": {
      "text/plain": [
       "True"
      ]
     },
     "execution_count": 66,
     "metadata": {},
     "output_type": "execute_result"
    }
   ],
   "source": [
    "vistor1.enumberate_q(instances['attraction_info'], instances['visitor_info'])['q_index'][0] == (0, 1, 0, 0)"
   ]
  },
  {
   "cell_type": "code",
   "execution_count": 87,
   "id": "2fd95d62",
   "metadata": {},
   "outputs": [
    {
     "data": {
      "text/html": [
       "<div>\n",
       "<style scoped>\n",
       "    .dataframe tbody tr th:only-of-type {\n",
       "        vertical-align: middle;\n",
       "    }\n",
       "\n",
       "    .dataframe tbody tr th {\n",
       "        vertical-align: top;\n",
       "    }\n",
       "\n",
       "    .dataframe thead th {\n",
       "        text-align: right;\n",
       "    }\n",
       "</style>\n",
       "<table border=\"1\" class=\"dataframe\">\n",
       "  <thead>\n",
       "    <tr style=\"text-align: right;\">\n",
       "      <th></th>\n",
       "      <th>attraction_index</th>\n",
       "      <th>attraction_reward</th>\n",
       "      <th>serve_time</th>\n",
       "    </tr>\n",
       "  </thead>\n",
       "  <tbody>\n",
       "    <tr>\n",
       "      <th>0</th>\n",
       "      <td>e</td>\n",
       "      <td>0</td>\n",
       "      <td>0</td>\n",
       "    </tr>\n",
       "    <tr>\n",
       "      <th>1</th>\n",
       "      <td>0</td>\n",
       "      <td>10</td>\n",
       "      <td>32</td>\n",
       "    </tr>\n",
       "    <tr>\n",
       "      <th>2</th>\n",
       "      <td>1</td>\n",
       "      <td>7</td>\n",
       "      <td>46</td>\n",
       "    </tr>\n",
       "    <tr>\n",
       "      <th>3</th>\n",
       "      <td>2</td>\n",
       "      <td>6</td>\n",
       "      <td>17</td>\n",
       "    </tr>\n",
       "    <tr>\n",
       "      <th>4</th>\n",
       "      <td>3</td>\n",
       "      <td>10</td>\n",
       "      <td>22</td>\n",
       "    </tr>\n",
       "    <tr>\n",
       "      <th>5</th>\n",
       "      <td>4</td>\n",
       "      <td>7</td>\n",
       "      <td>37</td>\n",
       "    </tr>\n",
       "    <tr>\n",
       "      <th>6</th>\n",
       "      <td>h</td>\n",
       "      <td>0</td>\n",
       "      <td>0</td>\n",
       "    </tr>\n",
       "  </tbody>\n",
       "</table>\n",
       "</div>"
      ],
      "text/plain": [
       "  attraction_index attraction_reward serve_time\n",
       "0                e                 0          0\n",
       "1                0                10         32\n",
       "2                1                 7         46\n",
       "3                2                 6         17\n",
       "4                3                10         22\n",
       "5                4                 7         37\n",
       "6                h                 0          0"
      ]
     },
     "execution_count": 87,
     "metadata": {},
     "output_type": "execute_result"
    }
   ],
   "source": [
    "instances['attraction_info']"
   ]
  },
  {
   "cell_type": "code",
   "execution_count": 90,
   "id": "c40623a7",
   "metadata": {},
   "outputs": [
    {
     "data": {
      "text/plain": [
       "10"
      ]
     },
     "execution_count": 90,
     "metadata": {},
     "output_type": "execute_result"
    }
   ],
   "source": [
    "instances['attraction_info']['attraction_reward'][instances['attraction_info']['attraction_index']==3].item()"
   ]
  },
  {
   "cell_type": "code",
   "execution_count": 96,
   "id": "cc278bdd",
   "metadata": {},
   "outputs": [
    {
     "data": {
      "text/plain": [
       "inf"
      ]
     },
     "execution_count": 96,
     "metadata": {},
     "output_type": "execute_result"
    }
   ],
   "source": [
    "np.inf"
   ]
  }
 ],
 "metadata": {
  "kernelspec": {
   "display_name": "Python 3 (ipykernel)",
   "language": "python",
   "name": "python3"
  },
  "language_info": {
   "codemirror_mode": {
    "name": "ipython",
    "version": 3
   },
   "file_extension": ".py",
   "mimetype": "text/x-python",
   "name": "python",
   "nbconvert_exporter": "python",
   "pygments_lexer": "ipython3",
   "version": "3.9.1"
  }
 },
 "nbformat": 4,
 "nbformat_minor": 5
}
